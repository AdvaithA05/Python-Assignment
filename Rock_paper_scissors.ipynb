{
  "nbformat": 4,
  "nbformat_minor": 0,
  "metadata": {
    "colab": {
      "provenance": [],
      "authorship_tag": "ABX9TyPiwzKRGl29Ee1hCscKJ5op",
      "include_colab_link": true
    },
    "kernelspec": {
      "name": "python3",
      "display_name": "Python 3"
    },
    "language_info": {
      "name": "python"
    }
  },
  "cells": [
    {
      "cell_type": "markdown",
      "metadata": {
        "id": "view-in-github",
        "colab_type": "text"
      },
      "source": [
        "<a href=\"https://colab.research.google.com/github/AdvaithA05/Python-Assignment/blob/main/Rock_paper_scissors.ipynb\" target=\"_parent\"><img src=\"https://colab.research.google.com/assets/colab-badge.svg\" alt=\"Open In Colab\"/></a>"
      ]
    },
    {
      "cell_type": "code",
      "execution_count": 3,
      "metadata": {
        "colab": {
          "base_uri": "https://localhost:8080/"
        },
        "id": "6qe0USpGP_74",
        "outputId": "c75ff6ed-d426-4748-a9e9-42aeb0908e89"
      },
      "outputs": [
        {
          "output_type": "stream",
          "name": "stdout",
          "text": [
            "Choose rock, paper, or scissors: scissors\n",
            "You chose scissors\n",
            "The computer chose rock\n",
            "The computer wins!\n"
          ]
        }
      ],
      "source": [
        "import random\n",
        "moves = [\"rock\", \"paper\", \"scissors\"]\n",
        "user_move = input(\"Choose rock, paper, or scissors: \")\n",
        "computer_move = random.choice(moves)\n",
        "print(\"You chose\", user_move)\n",
        "print(\"The computer chose\", computer_move)\n",
        "if user_move == computer_move:\n",
        "    print(\"It's a tie!\")\n",
        "elif user_move == \"rock\":\n",
        "    if computer_move == \"scissors\":\n",
        "        print(\"You win!\")\n",
        "    else:\n",
        "        print(\"The computer wins!\")\n",
        "elif user_move == \"paper\":\n",
        "    if computer_move == \"rock\":\n",
        "        print(\"You win!\")\n",
        "    else:\n",
        "        print(\"The computer wins!\")\n",
        "else:\n",
        "    if computer_move == \"rock\":\n",
        "        print(\"The computer wins!\")\n",
        "    else:\n",
        "        print(\"You win!\")"
      ]
    }
  ]
}