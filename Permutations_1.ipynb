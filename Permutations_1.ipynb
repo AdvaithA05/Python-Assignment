{
  "nbformat": 4,
  "nbformat_minor": 0,
  "metadata": {
    "colab": {
      "provenance": [],
      "authorship_tag": "ABX9TyN+tyx9s8Lm+OyUOW5+Qu5i",
      "include_colab_link": true
    },
    "kernelspec": {
      "name": "python3",
      "display_name": "Python 3"
    },
    "language_info": {
      "name": "python"
    }
  },
  "cells": [
    {
      "cell_type": "markdown",
      "metadata": {
        "id": "view-in-github",
        "colab_type": "text"
      },
      "source": [
        "<a href=\"https://colab.research.google.com/github/AdvaithA05/Python-Assignment/blob/main/Permutations_1.ipynb\" target=\"_parent\"><img src=\"https://colab.research.google.com/assets/colab-badge.svg\" alt=\"Open In Colab\"/></a>"
      ]
    },
    {
      "cell_type": "code",
      "execution_count": null,
      "metadata": {
        "colab": {
          "base_uri": "https://localhost:8080/"
        },
        "id": "Cv-NITZOo4VY",
        "outputId": "813c9f0a-3bf1-4c09-aa84-1a7fecf3c94e"
      },
      "outputs": [
        {
          "output_type": "stream",
          "name": "stdout",
          "text": [
            "All permutations of [1, 2, 3] are:\n",
            "(1, 2, 3)\n",
            "(1, 3, 2)\n",
            "(2, 1, 3)\n",
            "(2, 3, 1)\n",
            "(3, 1, 2)\n",
            "(3, 2, 1)\n"
          ]
        }
      ],
      "source": [
        "import itertools\n",
        "def generate_permutations(input_list):\n",
        "    permutations = list(itertools.permutations(input_list))\n",
        "    return permutations\n",
        "\n",
        "# Main pro\n",
        "if __name__ == \"__main__\":\n",
        "    input_list = [1, 2, 3]  # Replace with your desired list\n",
        "    all_permutations = generate_permutations(input_list)\n",
        "    print(\"All permutations of\", input_list, \"are:\")\n",
        "    for permutation in all_permutations:\n",
        "        print(permutation)"
      ]
    }
  ]
}