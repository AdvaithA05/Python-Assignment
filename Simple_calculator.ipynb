{
  "nbformat": 4,
  "nbformat_minor": 0,
  "metadata": {
    "colab": {
      "provenance": [],
      "authorship_tag": "ABX9TyOyPyhLwgv6z7gwMqaM6gXw",
      "include_colab_link": true
    },
    "kernelspec": {
      "name": "python3",
      "display_name": "Python 3"
    },
    "language_info": {
      "name": "python"
    }
  },
  "cells": [
    {
      "cell_type": "markdown",
      "metadata": {
        "id": "view-in-github",
        "colab_type": "text"
      },
      "source": [
        "<a href=\"https://colab.research.google.com/github/AdvaithA05/Python-Assignment/blob/main/Simple_calculator.ipynb\" target=\"_parent\"><img src=\"https://colab.research.google.com/assets/colab-badge.svg\" alt=\"Open In Colab\"/></a>"
      ]
    },
    {
      "cell_type": "code",
      "execution_count": 18,
      "metadata": {
        "colab": {
          "base_uri": "https://localhost:8080/"
        },
        "id": "BaJMk8TnJ4dO",
        "outputId": "49493f27-d3a9-44ae-9fbc-3c1a01168df5"
      },
      "outputs": [
        {
          "output_type": "stream",
          "name": "stdout",
          "text": [
            "Enter the the operation you want to do as +,-,*,/,**,%,//: +\n",
            "Enter the first value:10\n",
            "Enter the second value:30\n",
            "the addition of two number 10 & 30 is 40\n"
          ]
        }
      ],
      "source": [
        "operator=input(\"Enter the the operation you want to do as +,-,*,/,**,%,//: \");\n",
        "num1=int(input(\"Enter the first value:\"));\n",
        "num2=int(input(\"Enter the second value:\"));\n",
        "if operator=='+':\n",
        "  print(\"the addition of two number %d & %d is %d\"%(num1,num2,num1+num2));\n",
        "elif operator=='-':\n",
        "  print(\"the subtraction of two number %d & %d is %d\"%(num1,num2,num1-num2));\n",
        "elif (operator=='*'):\n",
        "  print(\"the multiplication of two number %d & %d is %d\"%(num1,num2,num1*num2));\n",
        "elif (operator=='/'):\n",
        "  print(\"the division of two number %d & %d is %d\"%(num1,num2,num1/num2));\n",
        "elif (operator=='**'):\n",
        "  print(\"the exponential of two number %d & %d is %d\"%(num1,num2,num1**num2));\n",
        "elif (operator=='%'):\n",
        "  print(\"the modulus of two number %d & %d is %d\"%(num1,num2,num1%num2));\n",
        "elif (operator=='//'):\n",
        "  print(\"the flour division of two number %d & %d is %d\"%(num1,num2,num1//num2));\n",
        "else:\n",
        "  print(\"error\")"
      ]
    }
  ]
}