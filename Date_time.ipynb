{
  "nbformat": 4,
  "nbformat_minor": 0,
  "metadata": {
    "colab": {
      "provenance": [],
      "authorship_tag": "ABX9TyMm5Exnr1akuaXDmSTlQdKM",
      "include_colab_link": true
    },
    "kernelspec": {
      "name": "python3",
      "display_name": "Python 3"
    },
    "language_info": {
      "name": "python"
    }
  },
  "cells": [
    {
      "cell_type": "markdown",
      "metadata": {
        "id": "view-in-github",
        "colab_type": "text"
      },
      "source": [
        "<a href=\"https://colab.research.google.com/github/AdvaithA05/Python-Assignment/blob/main/Date_time.ipynb\" target=\"_parent\"><img src=\"https://colab.research.google.com/assets/colab-badge.svg\" alt=\"Open In Colab\"/></a>"
      ]
    },
    {
      "cell_type": "code",
      "execution_count": 3,
      "metadata": {
        "colab": {
          "base_uri": "https://localhost:8080/"
        },
        "id": "xMyofnz4PPKK",
        "outputId": "f79edad8-751e-4e61-f17f-a55d95ed0a0e"
      },
      "outputs": [
        {
          "output_type": "stream",
          "name": "stdout",
          "text": [
            "The current time in india is : 2023-12-25 19:21:53.871668+05:30\n"
          ]
        }
      ],
      "source": [
        "import datetime\n",
        "import pytz\n",
        "current_time = datetime.datetime.now(pytz.timezone('Asia/Kolkata'))\n",
        "print(\"The current time in india is :\", current_time)"
      ]
    }
  ]
}